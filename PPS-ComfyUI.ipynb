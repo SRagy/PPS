{
 "cells": [
  {
   "cell_type": "markdown",
   "id": "9e42bc1e-9825-4587-b533-c74607b1a377",
   "metadata": {},
   "source": [
    "## ComfyUI Paperspace Notebook From https://github.com/TheLastBen/fast-stable-diffusion, if you encounter any issues, feel free to discuss them."
   ]
  },
  {
   "cell_type": "markdown",
   "id": "813d4d10-e6d1-42b1-ae37-ae41ad47e595",
   "metadata": {},
   "source": [
    "# Dependencies"
   ]
  },
  {
   "cell_type": "code",
   "execution_count": null,
   "id": "0f620673-a70b-4a3b-bf3d-e563acfb35cf",
   "metadata": {},
   "outputs": [],
   "source": [
    "# Install the dependencies\n",
    "force_reinstall= False\n",
    "\n",
    "# Set to true only if you want to install the dependencies again.\n",
    "\n",
    "#--------------------\n",
    "from mainppsComfy_311 import *;\n",
    "Deps(force_reinstall)"
   ]
  },
  {
   "cell_type": "markdown",
   "id": "76ae705b-15e3-47b9-b226-52e71ef1737d",
   "metadata": {},
   "source": [
    "# Install/Update ComfyUI"
   ]
  },
  {
   "cell_type": "code",
   "execution_count": null,
   "id": "1ec045c1-8410-4c64-8528-4fdbd486264e",
   "metadata": {},
   "outputs": [],
   "source": [
    "# Don't skip this cell to make sure the repo is up to date and functioning correctly\n",
    "\n",
    "#--------------------\n",
    "repo()"
   ]
  },
  {
   "cell_type": "markdown",
   "id": "ca3a26bb-8625-42b9-9e2f-e55939a536ef",
   "metadata": {},
   "source": [
    "# Model Download/Load"
   ]
  },
  {
   "cell_type": "code",
   "execution_count": 3,
   "id": "1e5dbca1-5ee2-41db-be94-9d2919dc3aef",
   "metadata": {
    "execution": {
     "iopub.execute_input": "2024-07-06T19:43:09.859878Z",
     "iopub.status.busy": "2024-07-06T19:43:09.859441Z",
     "iopub.status.idle": "2024-07-06T19:43:10.043521Z",
     "shell.execute_reply": "2024-07-06T19:43:10.041099Z",
     "shell.execute_reply.started": "2024-07-06T19:43:09.859838Z"
    },
    "tags": []
   },
   "outputs": [
    {
     "name": "stdout",
     "output_type": "stream",
     "text": [
      "\u001b[1;32mUsing the original SDXL model\n"
     ]
    }
   ],
   "source": [
    "Original_Model_Version = \"SDXL\"\n",
    "\n",
    "# Choices are \"SDXL\", \"v1.5\", \"v2-512\", \"v2-768\"\n",
    "\n",
    "#-------------- Or\n",
    "\n",
    "Path_to_MODEL = \"\"\n",
    "\n",
    "# Insert the full path of your trained model or to a folder containing multiple models.\n",
    "\n",
    "\n",
    "MODEL_LINK = \"\"\n",
    "\n",
    "# A direct link to a Model or a shared gdrive link.\n",
    "\n",
    "\n",
    "#--------------------\n",
    "model=mdls(Original_Model_Version, Path_to_MODEL, MODEL_LINK)"
   ]
  },
  {
   "cell_type": "markdown",
   "id": "39bd9c28-fc3d-4a99-bb1c-e68c74ac1323",
   "metadata": {},
   "source": [
    "# LoRA Download"
   ]
  },
  {
   "cell_type": "code",
   "execution_count": 4,
   "id": "cf411d58-cce0-452c-af60-b10046149a49",
   "metadata": {
    "execution": {
     "iopub.execute_input": "2024-07-06T19:43:10.046696Z",
     "iopub.status.busy": "2024-07-06T19:43:10.046192Z",
     "iopub.status.idle": "2024-07-06T19:43:10.061140Z",
     "shell.execute_reply": "2024-07-06T19:43:10.059616Z",
     "shell.execute_reply.started": "2024-07-06T19:43:10.046652Z"
    }
   },
   "outputs": [
    {
     "name": "stdout",
     "output_type": "stream",
     "text": [
      "\u001b[1;33mNothing to do\n"
     ]
    }
   ],
   "source": [
    "LoRA_LINK = \"\"\n",
    "\n",
    "# Downlad the LoRA model directly to ComfyUI LoRA folder\n",
    "\n",
    "#--------------------\n",
    "loradwn(LoRA_LINK)"
   ]
  },
  {
   "cell_type": "markdown",
   "id": "02706779-fec8-4661-8589-0e28f0d4fb3b",
   "metadata": {},
   "source": [
    "# ControlNet"
   ]
  },
  {
   "cell_type": "code",
   "execution_count": null,
   "id": "ff781a85-0843-4a2b-a576-23f1f32dbade",
   "metadata": {},
   "outputs": [],
   "source": [
    "# Download/update ControlNet extension and its models.\n",
    "\n",
    "ControlNet_v1_Model = \"none\"\n",
    "\n",
    "# Choices are : none; all; 1: Canny; 2: Depth; 3: Lineart; 4: MLSD; 5: Normal; 6: OpenPose; 7: Scribble; 8: Seg; 9: ip2p; 10:Shuffle; 11: Inpaint; 12: Softedge; 13: Lineart_Anime; 14: Tile; 15: T2iadapter_Models\n",
    "\n",
    "ControlNet_XL_Model = \"none\"\n",
    "\n",
    "# Choices are : none; all; 1: Canny; 2: Depth; 3: Sketch; 4: OpenPose; 5: Recolor\n",
    "\n",
    "#--------------------\n",
    "CNet(ControlNet_v1_Model, ControlNet_XL_Model)"
   ]
  },
  {
   "cell_type": "markdown",
   "id": "48184b7b-9cd0-4f04-9c85-4464031d6596",
   "metadata": {
    "tags": []
   },
   "source": [
    "# Start ComfyUI"
   ]
  },
  {
   "cell_type": "code",
   "execution_count": null,
   "id": "799099a9-dc2f-4aed-a606-d01b40ef7e82",
   "metadata": {},
   "outputs": [],
   "source": [
    "Args=\"--listen --port 6006 --preview-method auto\"\n",
    "\n",
    "#--------------------\n",
    "sd()\n",
    "!python /notebooks/ComfyUI/main.py $Args"
   ]
  }
 ],
 "metadata": {
  "kernelspec": {
   "display_name": "Python 3 (ipykernel)",
   "language": "python",
   "name": "python3"
  },
  "language_info": {
   "codemirror_mode": {
    "name": "ipython",
    "version": 3
   },
   "file_extension": ".py",
   "mimetype": "text/x-python",
   "name": "python",
   "nbconvert_exporter": "python",
   "pygments_lexer": "ipython3",
   "version": "3.11.7"
  }
 },
 "nbformat": 4,
 "nbformat_minor": 5
}
