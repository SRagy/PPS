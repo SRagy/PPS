{
 "cells": [
  {
   "cell_type": "markdown",
   "id": "6441563f-5e6b-4987-abe3-2a1b8c25a789",
   "metadata": {},
   "source": [
    "## A1111 Paperspace Notebook From https://github.com/TheLastBen/fast-stable-diffusion, if you encounter any issues, feel free to discuss them."
   ]
  },
  {
   "cell_type": "markdown",
   "id": "840f2f6a-41d1-4938-a846-d51f76682b76",
   "metadata": {},
   "source": [
    "# Dependencies"
   ]
  },
  {
   "cell_type": "code",
   "execution_count": null,
   "id": "bc78912e-afe9-441f-b662-0c11271f14f5",
   "metadata": {},
   "outputs": [],
   "source": [
    "# Install the dependencies\n",
    "\n",
    "force_reinstall=False\n",
    "\n",
    "# Set to true only if you want to install the dependencies again.\n",
    "\n",
    "#--------------------\n",
    "# with open('/dev/null', 'w') as devnull:import requests, os, importlib;sc=\"mainpaperspaceA1111.py\" if os.path.exists('/usr/local/lib/python3.9') else \"mainpaperspaceA1111_311.py\";open('/notebooks/mainpaperspaceA1111.py', 'wb').write(requests.get('https://huggingface.co/datasets/TheLastBen/PPS/raw/main/Scripts/'+sc).content);\n",
    "\n",
    "os.chdir('/notebooks')\n",
    "import mainpaperspaceA1111_311\n",
    "from mainpaperspaceA1111_311 import *\n",
    "Deps(force_reinstall)"
   ]
  },
  {
   "cell_type": "markdown",
   "id": "e21f3583-2d0f-4218-9da2-303f9e202820",
   "metadata": {
    "tags": []
   },
   "source": [
    "# Install/Update AUTOMATIC1111 repo"
   ]
  },
  {
   "cell_type": "code",
   "execution_count": 3,
   "id": "ed6cebed-8a4f-4a35-b5c3-36126be008b9",
   "metadata": {
    "execution": {
     "iopub.execute_input": "2024-07-07T11:39:23.317184Z",
     "iopub.status.busy": "2024-07-07T11:39:23.316928Z",
     "iopub.status.idle": "2024-07-07T11:39:23.319871Z",
     "shell.execute_reply": "2024-07-07T11:39:23.319279Z",
     "shell.execute_reply.started": "2024-07-07T11:39:23.317167Z"
    }
   },
   "outputs": [],
   "source": [
    "# Commented out to prevent future updates.\n",
    "\n",
    "#--------------------\n",
    "# repo()"
   ]
  },
  {
   "cell_type": "markdown",
   "id": "ab0521c7-8c68-4ea2-915a-bc3f4b67f6e7",
   "metadata": {},
   "source": [
    "# Model Download/Load"
   ]
  },
  {
   "cell_type": "code",
   "execution_count": null,
   "id": "73531bdf-e9bf-4e85-91fa-c3a517abdff5",
   "metadata": {},
   "outputs": [],
   "source": [
    "Original_Model_Version = \"SDXL\"\n",
    "\n",
    "# Choices are \"SDXL\", \"v1.5\", \"v2-512\", \"v2-768\"\n",
    "\n",
    "\n",
    "Path_to_MODEL = \"\"\n",
    "\n",
    "# Insert the full path of your trained model or to a folder containing multiple models.\n",
    "\n",
    "\n",
    "MODEL_LINK = \"https://civitai.com/api/download/models/128713\"\n",
    "\n",
    "# A direct link to a Model or a shared gdrive link.\n",
    "\n",
    "\n",
    "Temporary_Storage = True\n",
    "\n",
    "# Download the model to a temporary storage, bigger capacity but will be removed at session shutdown.\n",
    "\n",
    "\n",
    "#--------------------\n",
    "model=mdls(Original_Model_Version, Path_to_MODEL, MODEL_LINK, Temporary_Storage)"
   ]
  },
  {
   "cell_type": "markdown",
   "id": "3dea93ee",
   "metadata": {},
   "source": [
    "# LoRA Download"
   ]
  },
  {
   "cell_type": "code",
   "execution_count": null,
   "id": "27121332-a5b1-4632-9c26-76cee68d34f5",
   "metadata": {},
   "outputs": [],
   "source": [
    "LoRA_LINK = \"\"\n",
    "\n",
    "# Downlad the LoRA model directly to A1111 LoRA folder\n",
    "\n",
    "#--------------------\n",
    "loradwn(LoRA_LINK)"
   ]
  },
  {
   "cell_type": "markdown",
   "id": "2f9228f8-3d2b-4964-a848-f75ae1618d9f",
   "metadata": {},
   "source": [
    "# ControlNet"
   ]
  },
  {
   "cell_type": "code",
   "execution_count": null,
   "id": "46c40e2b-6218-42be-9edb-a9e42811e38c",
   "metadata": {},
   "outputs": [],
   "source": [
    "# Download/update ControlNet extension and its models.\n",
    "\n",
    "ControlNet_v1_Model = \"none\"\n",
    "\n",
    "# Choices are : none; all; 1: Canny; 2: Depth; 3: Lineart; 4: MLSD; 5: Normal; 6: OpenPose; 7: Scribble; 8: Seg; 9: ip2p; 10:Shuffle; 11: Inpaint; 12: Softedge; 13: Lineart_Anime; 14: Tile; 15: T2iadapter_Models\n",
    "\n",
    "ControlNet_XL_Model = \"none\"\n",
    "\n",
    "# Choices are : none; all; 1: Canny; 2: Depth; 3: Sketch; 4: OpenPose; 5: Recolor\n",
    "\n",
    "#--------------------\n",
    "CN(ControlNet_v1_Model, ControlNet_XL_Model)"
   ]
  },
  {
   "cell_type": "markdown",
   "id": "e0baf0c4-a410-432f-891b-975c7250c77d",
   "metadata": {},
   "source": [
    "# Start Stable-Diffusion"
   ]
  },
  {
   "cell_type": "code",
   "execution_count": null,
   "id": "2aa275a8-cb07-403e-bc3f-2f67cb09b8ae",
   "metadata": {},
   "outputs": [],
   "source": [
    "User = \"\"\n",
    "\n",
    "Password= \"\"\n",
    "\n",
    "# Add credentials to your Gradio interface (optional).\n",
    "\n",
    "\n",
    "#-----------------\n",
    "configf=sdui(User, Password, model) if 'model' in locals() else sdui(User, Password, \"\")\n",
    "!python /notebooks/sd/stable-diffusion-webui/webui.py $configf"
   ]
  }
 ],
 "metadata": {
  "kernelspec": {
   "display_name": "Python 3 (ipykernel)",
   "language": "python",
   "name": "python3"
  },
  "language_info": {
   "codemirror_mode": {
    "name": "ipython",
    "version": 3
   },
   "file_extension": ".py",
   "mimetype": "text/x-python",
   "name": "python",
   "nbconvert_exporter": "python",
   "pygments_lexer": "ipython3",
   "version": "3.11.7"
  }
 },
 "nbformat": 4,
 "nbformat_minor": 5
}
